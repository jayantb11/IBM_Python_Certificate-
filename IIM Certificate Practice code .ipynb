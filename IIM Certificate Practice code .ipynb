{
 "cells": [
  {
   "cell_type": "code",
   "execution_count": 2,
   "id": "26c1dfa7",
   "metadata": {},
   "outputs": [
    {
     "name": "stdout",
     "output_type": "stream",
     "text": [
      "Hello World\n"
     ]
    }
   ],
   "source": [
    "print(\"Hello World\")"
   ]
  },
  {
   "cell_type": "code",
   "execution_count": 5,
   "id": "66d10d3e",
   "metadata": {},
   "outputs": [
    {
     "data": {
      "text/plain": [
       "str"
      ]
     },
     "execution_count": 5,
     "metadata": {},
     "output_type": "execute_result"
    }
   ],
   "source": [
    "#Type of data \n",
    "i=type(22.2)\n",
    "j=type(11)\n",
    "q=type(\"Hello World\")\n",
    "print(i)\n",
    "j\n",
    "q"
   ]
  },
  {
   "cell_type": "code",
   "execution_count": 6,
   "id": "d3aa6c73",
   "metadata": {},
   "outputs": [
    {
     "data": {
      "text/plain": [
       "80"
      ]
     },
     "execution_count": 6,
     "metadata": {},
     "output_type": "execute_result"
    }
   ],
   "source": [
    "#Mathemical Operator \n",
    "2*40"
   ]
  },
  {
   "cell_type": "code",
   "execution_count": 7,
   "id": "637cdfa6",
   "metadata": {},
   "outputs": [
    {
     "data": {
      "text/plain": [
       "2108"
      ]
     },
     "execution_count": 7,
     "metadata": {},
     "output_type": "execute_result"
    }
   ],
   "source": [
    "(20+42)*34"
   ]
  },
  {
   "cell_type": "code",
   "execution_count": 8,
   "id": "4c09fd63",
   "metadata": {},
   "outputs": [],
   "source": [
    "my_variable=1"
   ]
  },
  {
   "cell_type": "code",
   "execution_count": 9,
   "id": "96f1c3c8",
   "metadata": {},
   "outputs": [
    {
     "data": {
      "text/plain": [
       "1"
      ]
     },
     "execution_count": 9,
     "metadata": {},
     "output_type": "execute_result"
    }
   ],
   "source": [
    "my_variable"
   ]
  },
  {
   "cell_type": "code",
   "execution_count": 10,
   "id": "b500bff5",
   "metadata": {},
   "outputs": [],
   "source": [
    "total_min=43+42+57\n",
    "total_hr=total_min/120"
   ]
  },
  {
   "cell_type": "code",
   "execution_count": 11,
   "id": "d84e567b",
   "metadata": {},
   "outputs": [
    {
     "data": {
      "text/plain": [
       "1.1833333333333333"
      ]
     },
     "execution_count": 11,
     "metadata": {},
     "output_type": "execute_result"
    }
   ],
   "source": [
    "total_hr"
   ]
  },
  {
   "cell_type": "code",
   "execution_count": 13,
   "id": "7695520f",
   "metadata": {},
   "outputs": [
    {
     "data": {
      "text/plain": [
       "'12'"
      ]
     },
     "execution_count": 13,
     "metadata": {},
     "output_type": "execute_result"
    }
   ],
   "source": [
    "'1'+'2'"
   ]
  },
  {
   "cell_type": "code",
   "execution_count": 14,
   "id": "57b5b3ee",
   "metadata": {},
   "outputs": [
    {
     "data": {
      "text/plain": [
       "('0', '1', '4', '2', '8')"
      ]
     },
     "execution_count": 14,
     "metadata": {},
     "output_type": "execute_result"
    }
   ],
   "source": [
    "# Tuples\n",
    "Rating=('0','1','4','2','8')\n",
    "Rating"
   ]
  },
  {
   "cell_type": "code",
   "execution_count": 16,
   "id": "f2f98efc",
   "metadata": {},
   "outputs": [
    {
     "data": {
      "text/plain": [
       "'0'"
      ]
     },
     "execution_count": 16,
     "metadata": {},
     "output_type": "execute_result"
    }
   ],
   "source": [
    "#Access in tuples\n",
    "Rating[0]"
   ]
  },
  {
   "cell_type": "code",
   "execution_count": 17,
   "id": "efc3368a",
   "metadata": {},
   "outputs": [
    {
     "data": {
      "text/plain": [
       "[(0, 1), 10.1, 28, 'Michael']"
      ]
     },
     "execution_count": 17,
     "metadata": {},
     "output_type": "execute_result"
    }
   ],
   "source": [
    "#lists\n",
    "list=[(0,1),10.1,28,'Michael']\n",
    "list"
   ]
  },
  {
   "cell_type": "code",
   "execution_count": 18,
   "id": "7b99c29b",
   "metadata": {},
   "outputs": [],
   "source": [
    "#list cloning\n",
    "A=[\"Hard rock\",10,1.2]"
   ]
  },
  {
   "cell_type": "code",
   "execution_count": 19,
   "id": "a1fff448",
   "metadata": {},
   "outputs": [],
   "source": [
    "B=A"
   ]
  },
  {
   "cell_type": "code",
   "execution_count": 20,
   "id": "4882fbe2",
   "metadata": {},
   "outputs": [
    {
     "data": {
      "text/plain": [
       "['Hard rock', 10, 1.2]"
      ]
     },
     "execution_count": 20,
     "metadata": {},
     "output_type": "execute_result"
    }
   ],
   "source": [
    "B"
   ]
  },
  {
   "cell_type": "code",
   "execution_count": 21,
   "id": "24bbb7b9",
   "metadata": {},
   "outputs": [
    {
     "data": {
      "text/plain": [
       "['Hard rock', 10, 1.2]"
      ]
     },
     "execution_count": 21,
     "metadata": {},
     "output_type": "execute_result"
    }
   ],
   "source": [
    "B = A[:]\n",
    "B"
   ]
  },
  {
   "cell_type": "code",
   "execution_count": 22,
   "id": "6528ddf6",
   "metadata": {},
   "outputs": [
    {
     "data": {
      "text/plain": [
       "{'Pop', 'dj', 'rock'}"
      ]
     },
     "execution_count": 22,
     "metadata": {},
     "output_type": "execute_result"
    }
   ],
   "source": [
    "#SeT \n",
    "#Have every item is unique\n",
    "Set1={\"Pop\",\"rock\",\"dj\"}\n",
    "Set1"
   ]
  },
  {
   "cell_type": "code",
   "execution_count": 23,
   "id": "4b01cccb",
   "metadata": {},
   "outputs": [
    {
     "data": {
      "text/plain": [
       "{1982, 'Michael Jackson', 'Thriller'}"
      ]
     },
     "execution_count": 23,
     "metadata": {},
     "output_type": "execute_result"
    }
   ],
   "source": [
    "ablum_list=[\"Michael Jackson\",\"Thriller\",\"Thriller\",1982]\n",
    "ablum_set=set(ablum_list)\n",
    "ablum_set"
   ]
  },
  {
   "cell_type": "code",
   "execution_count": 26,
   "id": "c1394d0a",
   "metadata": {},
   "outputs": [],
   "source": [
    "#Adding ablum.\n",
    "ablum_set.add(\"NYSC\")"
   ]
  },
  {
   "cell_type": "code",
   "execution_count": 25,
   "id": "8be864e9",
   "metadata": {},
   "outputs": [
    {
     "data": {
      "text/plain": [
       "{1982, 'Michael Jackson', 'NYSC', 'Thriller'}"
      ]
     },
     "execution_count": 25,
     "metadata": {},
     "output_type": "execute_result"
    }
   ],
   "source": [
    "ablum_set"
   ]
  },
  {
   "cell_type": "code",
   "execution_count": 28,
   "id": "4d4b1865",
   "metadata": {},
   "outputs": [
    {
     "data": {
      "text/plain": [
       "True"
      ]
     },
     "execution_count": 28,
     "metadata": {},
     "output_type": "execute_result"
    }
   ],
   "source": [
    "ablum_set2={\"Michael Jackson\",\"Thriller\"}\n",
    "ablum_set2.issubset(ablum_set)"
   ]
  },
  {
   "cell_type": "code",
   "execution_count": 29,
   "id": "b66f6c7b",
   "metadata": {},
   "outputs": [],
   "source": [
    "#Dictionaries\n",
    "dict={\"key1\":1,\n",
    "\"key2\":2,\n",
    "\"key3\":3,\n",
    "\"key4\":4,\n",
    "\"key5\":5,\n",
    "\"key6\":6,\n",
    "}"
   ]
  },
  {
   "cell_type": "code",
   "execution_count": 30,
   "id": "6903fffc",
   "metadata": {},
   "outputs": [
    {
     "data": {
      "text/plain": [
       "{'key1': 1, 'key2': 2, 'key3': 3, 'key4': 4, 'key5': 5, 'key6': 6}"
      ]
     },
     "execution_count": 30,
     "metadata": {},
     "output_type": "execute_result"
    }
   ],
   "source": [
    "dict"
   ]
  },
  {
   "cell_type": "code",
   "execution_count": 34,
   "id": "c3fdf939",
   "metadata": {},
   "outputs": [],
   "source": [
    "D = {'a':0,'b':1,'c':2}\n"
   ]
  },
  {
   "cell_type": "code",
   "execution_count": 41,
   "id": "b5171198",
   "metadata": {},
   "outputs": [
    {
     "name": "stdout",
     "output_type": "stream",
     "text": [
      "11\n",
      "12\n",
      "13\n",
      "14\n",
      "15\n"
     ]
    }
   ],
   "source": [
    "#loops\n",
    "# range(N)\n",
    "# range(3)=[1,2,3]\n",
    "for i in range(11,16):\n",
    "    print(i)"
   ]
  },
  {
   "cell_type": "code",
   "execution_count": 43,
   "id": "7d794360",
   "metadata": {},
   "outputs": [
    {
     "name": "stdout",
     "output_type": "stream",
     "text": [
      "['white', 'white', 'white', 'white', 'white']\n"
     ]
    }
   ],
   "source": [
    "#square white\n",
    "square=['yellow','red','green','black','blue']\n",
    "for i in range(0,5):\n",
    "    square[i]='white'\n",
    "    \n",
    "print(square)"
   ]
  },
  {
   "cell_type": "code",
   "execution_count": 52,
   "id": "1157a6f3",
   "metadata": {},
   "outputs": [],
   "source": [
    "square=['orange','orange','purple','blue']\n",
    "Newsquare=[]\n",
    "i=0\n",
    "while(square[i]=='orange'):\n",
    "    Newsquare.append(i)\n",
    "    i=i+1"
   ]
  },
  {
   "cell_type": "code",
   "execution_count": 53,
   "id": "4444ff5c",
   "metadata": {},
   "outputs": [
    {
     "data": {
      "text/plain": [
       "[0, 1]"
      ]
     },
     "execution_count": 53,
     "metadata": {},
     "output_type": "execute_result"
    }
   ],
   "source": [
    "Newsquare"
   ]
  },
  {
   "cell_type": "code",
   "execution_count": 55,
   "id": "8826c8f5",
   "metadata": {},
   "outputs": [
    {
     "name": "stdout",
     "output_type": "stream",
     "text": [
      "1\n",
      "2\n"
     ]
    }
   ],
   "source": [
    "x=3\n",
    "\n",
    "y=1\n",
    "\n",
    "while(y!=x):\n",
    "\n",
    "    print(y)\n",
    "\n",
    "    y=y+1"
   ]
  },
  {
   "cell_type": "code",
   "execution_count": 56,
   "id": "bf6b9a2a",
   "metadata": {},
   "outputs": [
    {
     "data": {
      "text/plain": [
       "11"
      ]
     },
     "execution_count": 56,
     "metadata": {},
     "output_type": "execute_result"
    }
   ],
   "source": [
    "#Function\n",
    "#return len of the function=len()\n",
    "#return too of the list=sum()\n",
    "#return sorted and sort =sort()\n",
    "\n",
    "def sum(a):\n",
    "    \"\"\" add one to the function \"\"\"\n",
    "    b=a+1\n",
    "    return b\n",
    "\n",
    "sum(10)\n"
   ]
  },
  {
   "cell_type": "code",
   "execution_count": 60,
   "id": "ac90d89b",
   "metadata": {},
   "outputs": [
    {
     "data": {
      "text/plain": [
       "'Michael JordanMichael Jordan'"
      ]
     },
     "execution_count": 60,
     "metadata": {},
     "output_type": "execute_result"
    }
   ],
   "source": [
    "#Mupltiple Function\n",
    "def mult(a,b):\n",
    "    \"\"\"mupltiple function\"\"\"\n",
    "    c=a*b\n",
    "    return c\n",
    "\n",
    "# mult(23,4)\n",
    "mult(2,'Michael Jordan')"
   ]
  },
  {
   "cell_type": "code",
   "execution_count": 61,
   "id": "81e41669",
   "metadata": {},
   "outputs": [
    {
     "name": "stdout",
     "output_type": "stream",
     "text": [
      "Michael Jordan\n"
     ]
    }
   ],
   "source": [
    "def MJ():\n",
    "    print('Michael Jordan')\n",
    "    \n",
    "MJ()"
   ]
  },
  {
   "cell_type": "code",
   "execution_count": 62,
   "id": "c5deed03",
   "metadata": {},
   "outputs": [
    {
     "name": "stdout",
     "output_type": "stream",
     "text": [
      "None\n"
     ]
    }
   ],
   "source": [
    "def NoWork():\n",
    "    pass\n",
    "\n",
    "print(NoWork())"
   ]
  },
  {
   "cell_type": "code",
   "execution_count": 64,
   "id": "5cbce614",
   "metadata": {},
   "outputs": [
    {
     "name": "stdout",
     "output_type": "stream",
     "text": [
      "50 equal to 1 51\n"
     ]
    },
    {
     "data": {
      "text/plain": [
       "51"
      ]
     },
     "execution_count": 64,
     "metadata": {},
     "output_type": "execute_result"
    }
   ],
   "source": [
    "def add1(a):\n",
    "    b=a+1\n",
    "    print(a, 'equal to 1', b)\n",
    "    return b\n",
    "\n",
    "add1(50)"
   ]
  },
  {
   "cell_type": "code",
   "execution_count": 67,
   "id": "f5b12e3c",
   "metadata": {},
   "outputs": [
    {
     "name": "stdout",
     "output_type": "stream",
     "text": [
      "Artist 0 Rating is  10\n",
      "Artist 1 Rating is  8.5\n",
      "Artist 2 Rating is  9.5\n",
      "None\n"
     ]
    }
   ],
   "source": [
    "#Multiply Variable\n",
    "def inStuff(Stuff):\n",
    "    for i,s in enumerate(Stuff):\n",
    "        print(\"Artist\",i,\"Rating is \",s)\n",
    "\n",
    "ablum_ratings=[10,8.5,9.5]\n",
    "print(inStuff(ablum_ratings))"
   ]
  },
  {
   "cell_type": "code",
   "execution_count": 68,
   "id": "32a0edf3",
   "metadata": {},
   "outputs": [
    {
     "name": "stdout",
     "output_type": "stream",
     "text": [
      "Michael Jackson\n",
      "AC/DC\n",
      "PinkFloyd\n"
     ]
    }
   ],
   "source": [
    "#Collecting agrument\n",
    "def ArtistName(*names):\n",
    "    for name in names:\n",
    "        print(name)\n",
    "        \n",
    "ArtistName(\"Michael Jackson\",\"AC/DC\",\"PinkFloyd\")"
   ]
  },
  {
   "cell_type": "code",
   "execution_count": 71,
   "id": "29c43515",
   "metadata": {},
   "outputs": [
    {
     "ename": "UnboundLocalError",
     "evalue": "cannot access local variable 'x' where it is not associated with a value",
     "output_type": "error",
     "traceback": [
      "\u001b[0;31m---------------------------------------------------------------------------\u001b[0m",
      "\u001b[0;31mUnboundLocalError\u001b[0m                         Traceback (most recent call last)",
      "Cell \u001b[0;32mIn[71], line 8\u001b[0m\n\u001b[1;32m      5\u001b[0m     \u001b[38;5;28;01mreturn\u001b[39;00m(x)\n\u001b[1;32m      7\u001b[0m x\u001b[38;5;241m=\u001b[39m\u001b[38;5;124m\"\u001b[39m\u001b[38;5;124mAC\u001b[39m\u001b[38;5;124m\"\u001b[39m \u001b[38;5;66;03m#global scope\u001b[39;00m\n\u001b[0;32m----> 8\u001b[0m z\u001b[38;5;241m=\u001b[39mAddDC(x)\n",
      "Cell \u001b[0;32mIn[71], line 3\u001b[0m, in \u001b[0;36mAddDC\u001b[0;34m(y)\u001b[0m\n\u001b[1;32m      2\u001b[0m \u001b[38;5;28;01mdef\u001b[39;00m \u001b[38;5;21mAddDC\u001b[39m(y):\n\u001b[0;32m----> 3\u001b[0m     x\u001b[38;5;241m=\u001b[39mx\u001b[38;5;241m+\u001b[39m\u001b[38;5;124m\"\u001b[39m\u001b[38;5;124mDC\u001b[39m\u001b[38;5;124m\"\u001b[39m\n\u001b[1;32m      4\u001b[0m     \u001b[38;5;28mprint\u001b[39m(x)\n\u001b[1;32m      5\u001b[0m     \u001b[38;5;28;01mreturn\u001b[39;00m(x)\n",
      "\u001b[0;31mUnboundLocalError\u001b[0m: cannot access local variable 'x' where it is not associated with a value"
     ]
    }
   ],
   "source": [
    "#Global Scope \n",
    "def AddDC(y):\n",
    "    x=x+\"DC\"\n",
    "    print(x)\n",
    "    return(x)\n",
    "\n",
    "x=\"AC\" #global scope\n",
    "z=AddDC(x)"
   ]
  },
  {
   "cell_type": "code",
   "execution_count": 72,
   "id": "c9e9d1fe",
   "metadata": {},
   "outputs": [],
   "source": [
    "#Method\n",
    "Ratings=[10,9,8,7,6,5,4,3,2,1]"
   ]
  },
  {
   "cell_type": "code",
   "execution_count": 80,
   "id": "1f51bc52",
   "metadata": {},
   "outputs": [],
   "source": [
    "Ratings.reverse()"
   ]
  },
  {
   "cell_type": "code",
   "execution_count": 81,
   "id": "c4734c82",
   "metadata": {},
   "outputs": [
    {
     "data": {
      "text/plain": [
       "[10, 9, 8, 7, 6, 5, 4, 3, 2, 1]"
      ]
     },
     "execution_count": 81,
     "metadata": {},
     "output_type": "execute_result"
    }
   ],
   "source": [
    "Ratings"
   ]
  },
  {
   "cell_type": "code",
   "execution_count": 77,
   "id": "9f83cc34",
   "metadata": {},
   "outputs": [],
   "source": [
    "Ratings.sort()"
   ]
  },
  {
   "cell_type": "code",
   "execution_count": 78,
   "id": "2472f8b4",
   "metadata": {},
   "outputs": [
    {
     "data": {
      "text/plain": [
       "[1, 2, 3, 4, 5, 6, 7, 8, 9, 10]"
      ]
     },
     "execution_count": 78,
     "metadata": {},
     "output_type": "execute_result"
    }
   ],
   "source": [
    "Ratings"
   ]
  },
  {
   "cell_type": "code",
   "execution_count": 89,
   "id": "3fe71da9",
   "metadata": {},
   "outputs": [],
   "source": [
    "# class is defined\n",
    "class Circle(object):\n",
    "    # Data Attributes of object\n",
    "    # self is the parameter that newly refers to radius and color\n",
    "    def __init__(self, radius, color):\n",
    "        self.radius = radius\n",
    "        self.color = color\n"
   ]
  },
  {
   "cell_type": "code",
   "execution_count": 90,
   "id": "eea3305f",
   "metadata": {},
   "outputs": [],
   "source": [
    "#Object construction\n",
    "C1=Circle(10,'red')"
   ]
  },
  {
   "cell_type": "code",
   "execution_count": 92,
   "id": "d6041312",
   "metadata": {},
   "outputs": [
    {
     "data": {
      "text/plain": [
       "<__main__.Circle at 0x108d1b2d0>"
      ]
     },
     "execution_count": 92,
     "metadata": {},
     "output_type": "execute_result"
    }
   ],
   "source": [
    "C1."
   ]
  },
  {
   "cell_type": "code",
   "execution_count": 94,
   "id": "fa036aca",
   "metadata": {},
   "outputs": [
    {
     "name": "stdout",
     "output_type": "stream",
     "text": [
      "Hi\n",
      "Mike\n"
     ]
    }
   ],
   "source": [
    "x=1\n",
    "\n",
    "if(x!=1):\n",
    "\n",
    "    print('Hello')\n",
    "\n",
    "else:\n",
    "\n",
    "    print('Hi')\n",
    "\n",
    "print('Mike')"
   ]
  },
  {
   "cell_type": "code",
   "execution_count": 95,
   "id": "3a3b0295",
   "metadata": {},
   "outputs": [
    {
     "name": "stdout",
     "output_type": "stream",
     "text": [
      "11\n",
      "22\n",
      "33\n"
     ]
    }
   ],
   "source": [
    "A = ['1','2','3']\n",
    "\n",
    "for a in A:\n",
    "\n",
    "    print(2*a)"
   ]
  },
  {
   "cell_type": "code",
   "execution_count": 97,
   "id": "9e5673c2",
   "metadata": {},
   "outputs": [],
   "source": [
    "def Delta(x):\n",
    "\n",
    "    if x==0:\n",
    "\n",
    "        y=1;\n",
    "\n",
    "    else:\n",
    "\n",
    "        y=0;\n",
    "\n",
    "        return(y)"
   ]
  },
  {
   "cell_type": "code",
   "execution_count": null,
   "id": "79dcb781",
   "metadata": {},
   "outputs": [],
   "source": [
    "#pandas \n",
    "#read_file\n",
    "csv_path='file1.csv'\n",
    "df=banana.read_csv(csv_path)\n",
    "df.head()"
   ]
  },
  {
   "cell_type": "code",
   "execution_count": null,
   "id": "94bef51a",
   "metadata": {},
   "outputs": [],
   "source": [
    "#DataFrames\n",
    "song={'Ablum':['Thriller','Back in Black','The Dark Side of the Moon','The BodyGraud','Ball Out of Hell']\n",
    "     'Released':[1982,1980,1973,1993,1977],\n",
    "     'Lenght':}"
   ]
  },
  {
   "cell_type": "code",
   "execution_count": null,
   "id": "a419b276",
   "metadata": {},
   "outputs": [],
   "source": [
    "#have a unique element to check elements\n",
    "df[Released].unique()"
   ]
  },
  {
   "cell_type": "code",
   "execution_count": 103,
   "id": "d5ac1f9e",
   "metadata": {},
   "outputs": [],
   "source": [
    "#Numpy\n",
    "import numpy as np\n",
    "a=np.array([0,1,2,3,4])"
   ]
  },
  {
   "cell_type": "code",
   "execution_count": 104,
   "id": "0d588a26",
   "metadata": {},
   "outputs": [
    {
     "data": {
      "text/plain": [
       "array([0, 1, 2, 3, 4])"
      ]
     },
     "execution_count": 104,
     "metadata": {},
     "output_type": "execute_result"
    }
   ],
   "source": [
    "a"
   ]
  },
  {
   "cell_type": "code",
   "execution_count": 105,
   "id": "a8c9b8f2",
   "metadata": {},
   "outputs": [
    {
     "data": {
      "text/plain": [
       "5"
      ]
     },
     "execution_count": 105,
     "metadata": {},
     "output_type": "execute_result"
    }
   ],
   "source": [
    "a.size"
   ]
  },
  {
   "cell_type": "code",
   "execution_count": 106,
   "id": "17c27b29",
   "metadata": {},
   "outputs": [
    {
     "data": {
      "text/plain": [
       "1"
      ]
     },
     "execution_count": 106,
     "metadata": {},
     "output_type": "execute_result"
    }
   ],
   "source": [
    "a.ndim"
   ]
  },
  {
   "cell_type": "code",
   "execution_count": 107,
   "id": "08128c7b",
   "metadata": {},
   "outputs": [
    {
     "data": {
      "text/plain": [
       "(5,)"
      ]
     },
     "execution_count": 107,
     "metadata": {},
     "output_type": "execute_result"
    }
   ],
   "source": [
    "a.shape"
   ]
  },
  {
   "cell_type": "code",
   "execution_count": 109,
   "id": "9d4ee5c9",
   "metadata": {},
   "outputs": [],
   "source": [
    "b=np.array([3.1,11.02,6.2,213.4])"
   ]
  },
  {
   "cell_type": "code",
   "execution_count": 110,
   "id": "8a52e871",
   "metadata": {},
   "outputs": [
    {
     "data": {
      "text/plain": [
       "array([  3.1 ,  11.02,   6.2 , 213.4 ])"
      ]
     },
     "execution_count": 110,
     "metadata": {},
     "output_type": "execute_result"
    }
   ],
   "source": [
    "b"
   ]
  },
  {
   "cell_type": "code",
   "execution_count": 111,
   "id": "9eb0bb25",
   "metadata": {},
   "outputs": [
    {
     "data": {
      "text/plain": [
       "dtype('float64')"
      ]
     },
     "execution_count": 111,
     "metadata": {},
     "output_type": "execute_result"
    }
   ],
   "source": [
    "b.dtype"
   ]
  },
  {
   "cell_type": "code",
   "execution_count": 114,
   "id": "028df3a9",
   "metadata": {},
   "outputs": [],
   "source": [
    "#indexing and slicing\n",
    "c=np.array([100,1,2,3,4])"
   ]
  },
  {
   "cell_type": "code",
   "execution_count": 115,
   "id": "c7d2a327",
   "metadata": {},
   "outputs": [],
   "source": [
    "c[0]=200"
   ]
  },
  {
   "cell_type": "code",
   "execution_count": 116,
   "id": "245cb40a",
   "metadata": {},
   "outputs": [
    {
     "data": {
      "text/plain": [
       "array([200,   1,   2,   3,   4])"
      ]
     },
     "execution_count": 116,
     "metadata": {},
     "output_type": "execute_result"
    }
   ],
   "source": [
    "c"
   ]
  },
  {
   "cell_type": "code",
   "execution_count": 119,
   "id": "e87b0d1b",
   "metadata": {},
   "outputs": [],
   "source": [
    "c[3:5]=300,400"
   ]
  },
  {
   "cell_type": "code",
   "execution_count": 120,
   "id": "845ae13d",
   "metadata": {},
   "outputs": [
    {
     "data": {
      "text/plain": [
       "array([200,   1,   2, 300, 400])"
      ]
     },
     "execution_count": 120,
     "metadata": {},
     "output_type": "execute_result"
    }
   ],
   "source": [
    "c"
   ]
  },
  {
   "cell_type": "code",
   "execution_count": 121,
   "id": "c928e1c7",
   "metadata": {},
   "outputs": [],
   "source": [
    "#Basic Operators or vector addition\n",
    "u=np.array([1,0])\n",
    "v=np.array([0,1])\n",
    "z=u+v\n"
   ]
  },
  {
   "cell_type": "code",
   "execution_count": 122,
   "id": "3710886a",
   "metadata": {},
   "outputs": [
    {
     "data": {
      "text/plain": [
       "array([1, 1])"
      ]
     },
     "execution_count": 122,
     "metadata": {},
     "output_type": "execute_result"
    }
   ],
   "source": [
    "z"
   ]
  },
  {
   "cell_type": "code",
   "execution_count": 123,
   "id": "317ed0ab",
   "metadata": {},
   "outputs": [],
   "source": [
    "z=u-v"
   ]
  },
  {
   "cell_type": "code",
   "execution_count": 125,
   "id": "0b1efab4",
   "metadata": {},
   "outputs": [
    {
     "data": {
      "text/plain": [
       "array([ 1, -1])"
      ]
     },
     "execution_count": 125,
     "metadata": {},
     "output_type": "execute_result"
    }
   ],
   "source": [
    "z"
   ]
  },
  {
   "cell_type": "code",
   "execution_count": 126,
   "id": "77165a26",
   "metadata": {},
   "outputs": [],
   "source": [
    "y=np.array([1,2])"
   ]
  },
  {
   "cell_type": "code",
   "execution_count": 127,
   "id": "edcc9881",
   "metadata": {},
   "outputs": [],
   "source": [
    "z=2*y"
   ]
  },
  {
   "cell_type": "code",
   "execution_count": 128,
   "id": "66b3a6ed",
   "metadata": {},
   "outputs": [
    {
     "data": {
      "text/plain": [
       "array([2, 4])"
      ]
     },
     "execution_count": 128,
     "metadata": {},
     "output_type": "execute_result"
    }
   ],
   "source": [
    "z"
   ]
  },
  {
   "cell_type": "code",
   "execution_count": 131,
   "id": "baf8e315",
   "metadata": {},
   "outputs": [],
   "source": [
    "#Dot Product\n",
    "u=np.array([1,3])\n",
    "v=np.array([2,1])\n",
    "result=np.dot(u,v)"
   ]
  },
  {
   "cell_type": "code",
   "execution_count": 132,
   "id": "655857e3",
   "metadata": {},
   "outputs": [
    {
     "data": {
      "text/plain": [
       "5"
      ]
     },
     "execution_count": 132,
     "metadata": {},
     "output_type": "execute_result"
    }
   ],
   "source": [
    "result"
   ]
  },
  {
   "cell_type": "code",
   "execution_count": 133,
   "id": "78a9d6f0",
   "metadata": {},
   "outputs": [],
   "source": [
    "#Universal Function\n",
    "a=np.array([1,-2,3,4,5])"
   ]
  },
  {
   "cell_type": "code",
   "execution_count": 139,
   "id": "bce359c3",
   "metadata": {},
   "outputs": [],
   "source": [
    "#maximun value\n",
    "max_b=a.max()"
   ]
  },
  {
   "cell_type": "code",
   "execution_count": 140,
   "id": "1fd8843e",
   "metadata": {},
   "outputs": [
    {
     "data": {
      "text/plain": [
       "5"
      ]
     },
     "execution_count": 140,
     "metadata": {},
     "output_type": "execute_result"
    }
   ],
   "source": [
    "max_b"
   ]
  },
  {
   "cell_type": "code",
   "execution_count": 141,
   "id": "3da705dd",
   "metadata": {},
   "outputs": [
    {
     "data": {
      "text/plain": [
       "3.141592653589793"
      ]
     },
     "execution_count": 141,
     "metadata": {},
     "output_type": "execute_result"
    }
   ],
   "source": [
    "np.pi"
   ]
  },
  {
   "cell_type": "code",
   "execution_count": 142,
   "id": "82873e79",
   "metadata": {},
   "outputs": [],
   "source": [
    "#sinx function\n",
    "x=np.array([0,np.pi/2,np.pi])\n",
    "y=np.sin(x)\n"
   ]
  },
  {
   "cell_type": "code",
   "execution_count": 143,
   "id": "3f0caeba",
   "metadata": {},
   "outputs": [
    {
     "data": {
      "text/plain": [
       "array([0.0000000e+00, 1.0000000e+00, 1.2246468e-16])"
      ]
     },
     "execution_count": 143,
     "metadata": {},
     "output_type": "execute_result"
    }
   ],
   "source": [
    "y"
   ]
  },
  {
   "cell_type": "code",
   "execution_count": 145,
   "id": "74544041",
   "metadata": {},
   "outputs": [
    {
     "data": {
      "text/plain": [
       "array([-2. , -1.5, -1. , -0.5,  0. ,  0.5,  1. ,  1.5,  2. ])"
      ]
     },
     "execution_count": 145,
     "metadata": {},
     "output_type": "execute_result"
    }
   ],
   "source": [
    "# linespace is used to generate evenly sample given between a range\n",
    "x=np.linspace(-2,2,num=9)"
   ]
  },
  {
   "cell_type": "code",
   "execution_count": 146,
   "id": "0053e655",
   "metadata": {},
   "outputs": [],
   "source": [
    "y=np.sin(x)"
   ]
  },
  {
   "cell_type": "code",
   "execution_count": 149,
   "id": "72e25e8b",
   "metadata": {},
   "outputs": [
    {
     "data": {
      "text/plain": [
       "[<matplotlib.lines.Line2D at 0x11c46e1d0>]"
      ]
     },
     "execution_count": 149,
     "metadata": {},
     "output_type": "execute_result"
    },
    {
     "data": {
      "image/png": "[encoded data removed]",
      "text/plain": [
       "<Figure size 640x480 with 1 Axes>"
      ]
     },
     "metadata": {},
     "output_type": "display_data"
    }
   ],
   "source": [
    "import matplotlib.pyplot as plt\n",
    "plt.plot(x,y)"
   ]
  },
  {
   "cell_type": "code",
   "execution_count": 150,
   "id": "92fbfbd7",
   "metadata": {},
   "outputs": [
    {
     "data": {
      "text/plain": [
       "array([ 1, -1])"
      ]
     },
     "execution_count": 150,
     "metadata": {},
     "output_type": "execute_result"
    }
   ],
   "source": [
    "np.array([1,-1])*np.array([1,1])"
   ]
  },
  {
   "cell_type": "code",
   "execution_count": 152,
   "id": "027c9b30",
   "metadata": {},
   "outputs": [
    {
     "data": {
      "text/plain": [
       "0"
      ]
     },
     "execution_count": 152,
     "metadata": {},
     "output_type": "execute_result"
    }
   ],
   "source": [
    "np.dot(np.array([1,-1]),np.array([1,1]))"
   ]
  },
  {
   "cell_type": "code",
   "execution_count": 157,
   "id": "afbbe487",
   "metadata": {},
   "outputs": [
    {
     "data": {
      "text/plain": [
       "array([[11, 12, 13],\n",
       "       [21, 22, 23],\n",
       "       [31, 32, 33]])"
      ]
     },
     "execution_count": 157,
     "metadata": {},
     "output_type": "execute_result"
    }
   ],
   "source": [
    "'''2D Arrayies'''\n",
    "a=[[11,12,13],[21,22,23],[31,32,33]]\n",
    "A=np.array(a)\n",
    "A"
   ]
  },
  {
   "cell_type": "code",
   "execution_count": 154,
   "id": "3fd7c4ce",
   "metadata": {},
   "outputs": [
    {
     "data": {
      "text/plain": [
       "9"
      ]
     },
     "execution_count": 154,
     "metadata": {},
     "output_type": "execute_result"
    }
   ],
   "source": [
    "A.ndim\n",
    "A.shape\n",
    "A.size"
   ]
  },
  {
   "cell_type": "code",
   "execution_count": 156,
   "id": "8f427ec4",
   "metadata": {},
   "outputs": [
    {
     "data": {
      "text/plain": [
       "11"
      ]
     },
     "execution_count": 156,
     "metadata": {},
     "output_type": "execute_result"
    }
   ],
   "source": [
    "A[0][0]"
   ]
  },
  {
   "cell_type": "code",
   "execution_count": null,
   "id": "d20d0479",
   "metadata": {},
   "outputs": [],
   "source": [
    "#API is a store tool to store codes\n",
    "'''pandas is API'''\n",
    "\n",
    "#Rest API\n",
    "'''Request hitting on servers'''\n",
    "'''JSON Formatting'''\n",
    "\n",
    "#API Keys\n",
    "'''Call each call'''\n"
   ]
  },
  {
   "cell_type": "code",
   "execution_count": 159,
   "id": "9891cd64",
   "metadata": {},
   "outputs": [
    {
     "data": {
      "text/plain": [
       "array([0, 0, 0, 0, 0])"
      ]
     },
     "execution_count": 159,
     "metadata": {},
     "output_type": "execute_result"
    }
   ],
   "source": [
    "a=np.array([0,1,0,1,0])\n",
    "\n",
    "b=np.array([1,0,1,0,1])\n",
    "\n",
    "c=a*b\n",
    "c"
   ]
  },
  {
   "cell_type": "code",
   "execution_count": 160,
   "id": "9d8289d0",
   "metadata": {},
   "outputs": [
    {
     "data": {
      "text/plain": [
       "0"
      ]
     },
     "execution_count": 160,
     "metadata": {},
     "output_type": "execute_result"
    }
   ],
   "source": [
    "a=np.array([0,1])\n",
    "\n",
    "b=np.array([1,0])\n",
    "\n",
    "d=np.dot(a,b)\n",
    "d"
   ]
  },
  {
   "cell_type": "code",
   "execution_count": 161,
   "id": "31a59515",
   "metadata": {},
   "outputs": [
    {
     "data": {
      "text/plain": [
       "array([11, 11, 11, 11, 11])"
      ]
     },
     "execution_count": 161,
     "metadata": {},
     "output_type": "execute_result"
    }
   ],
   "source": [
    "a=np.array([1,1,1,1,1])\n",
    "\n",
    "s=a+10\n",
    "s"
   ]
  },
  {
   "cell_type": "code",
   "execution_count": 162,
   "id": "6fd406ed",
   "metadata": {},
   "outputs": [
    {
     "data": {
      "text/plain": [
       "7"
      ]
     },
     "execution_count": 162,
     "metadata": {},
     "output_type": "execute_result"
    }
   ],
   "source": [
    "a=3+2*2\n",
    "a"
   ]
  },
  {
   "cell_type": "code",
   "execution_count": 163,
   "id": "12655a94",
   "metadata": {},
   "outputs": [
    {
     "data": {
      "text/plain": [
       "3"
      ]
     },
     "execution_count": 163,
     "metadata": {},
     "output_type": "execute_result"
    }
   ],
   "source": [
    "int(3.2)"
   ]
  },
  {
   "cell_type": "code",
   "execution_count": 164,
   "id": "5a615332",
   "metadata": {},
   "outputs": [
    {
     "data": {
      "text/plain": [
       "'246'"
      ]
     },
     "execution_count": 164,
     "metadata": {},
     "output_type": "execute_result"
    }
   ],
   "source": [
    "A='1234567'\n",
    "A[1::2]"
   ]
  },
  {
   "cell_type": "code",
   "execution_count": 165,
   "id": "b565e11c",
   "metadata": {},
   "outputs": [
    {
     "data": {
      "text/plain": [
       "5"
      ]
     },
     "execution_count": 165,
     "metadata": {},
     "output_type": "execute_result"
    }
   ],
   "source": [
    "Name=\"Michael Jackson\"\n",
    "Name.find('el')"
   ]
  },
  {
   "cell_type": "code",
   "execution_count": 167,
   "id": "cccc3dc6",
   "metadata": {},
   "outputs": [
    {
     "data": {
      "text/plain": [
       "'C'"
      ]
     },
     "execution_count": 167,
     "metadata": {},
     "output_type": "execute_result"
    }
   ],
   "source": [
    "tuple1=(\"A\",\"B\",\"C\" )\n",
    "tuple1[-1]"
   ]
  },
  {
   "cell_type": "code",
   "execution_count": 168,
   "id": "ca5ff435",
   "metadata": {},
   "outputs": [
    {
     "data": {
      "text/plain": [
       "[21, 22]"
      ]
     },
     "execution_count": 168,
     "metadata": {},
     "output_type": "execute_result"
    }
   ],
   "source": [
    "\n",
    "A=((11,12),[21,22])\n",
    "A[1]"
   ]
  },
  {
   "cell_type": "code",
   "execution_count": 171,
   "id": "0590938f",
   "metadata": {},
   "outputs": [],
   "source": [
    "#create a list\n",
    "A='1,2,3,4'.split(',')"
   ]
  },
  {
   "cell_type": "code",
   "execution_count": 170,
   "id": "1ee0ca25",
   "metadata": {},
   "outputs": [
    {
     "data": {
      "text/plain": [
       "['1', '2', '3', '4']"
      ]
     },
     "execution_count": 170,
     "metadata": {},
     "output_type": "execute_result"
    }
   ],
   "source": [
    "A"
   ]
  },
  {
   "cell_type": "code",
   "execution_count": 174,
   "id": "51ec62c1",
   "metadata": {},
   "outputs": [
    {
     "data": {
      "text/plain": [
       "[1, 'a', 2, 1, 'd']"
      ]
     },
     "execution_count": 174,
     "metadata": {},
     "output_type": "execute_result"
    }
   ],
   "source": [
    "A=[1,'a'] \n",
    "B=[2,1,'d']\n",
    "C=A+B\n",
    "C"
   ]
  },
  {
   "cell_type": "code",
   "execution_count": 175,
   "id": "a97a4c89",
   "metadata": {},
   "outputs": [],
   "source": [
    "#adding thing on this\n",
    "V={'A','B'}\n",
    "V.add('C')"
   ]
  },
  {
   "cell_type": "code",
   "execution_count": 176,
   "id": "3396c93d",
   "metadata": {},
   "outputs": [
    {
     "data": {
      "text/plain": [
       "{'A', 'B', 'C'}"
      ]
     },
     "execution_count": 176,
     "metadata": {},
     "output_type": "execute_result"
    }
   ],
   "source": [
    "V"
   ]
  },
  {
   "cell_type": "code",
   "execution_count": 177,
   "id": "4efae3b8",
   "metadata": {},
   "outputs": [],
   "source": [
    "V={'A','B','C'}\n",
    "V.add('C')"
   ]
  },
  {
   "cell_type": "code",
   "execution_count": 178,
   "id": "d03accaa",
   "metadata": {},
   "outputs": [
    {
     "data": {
      "text/plain": [
       "{'A', 'B', 'C'}"
      ]
     },
     "execution_count": 178,
     "metadata": {},
     "output_type": "execute_result"
    }
   ],
   "source": [
    "V"
   ]
  },
  {
   "cell_type": "code",
   "execution_count": 179,
   "id": "334aa5d5",
   "metadata": {},
   "outputs": [
    {
     "name": "stdout",
     "output_type": "stream",
     "text": [
      "0\n",
      "1\n",
      "2\n"
     ]
    }
   ],
   "source": [
    "for n in range(3):\n",
    "\n",
    "    print(n)"
   ]
  },
  {
   "cell_type": "code",
   "execution_count": 180,
   "id": "cc36b908",
   "metadata": {},
   "outputs": [
    {
     "data": {
      "text/plain": [
       "'1'"
      ]
     },
     "execution_count": 180,
     "metadata": {},
     "output_type": "execute_result"
    }
   ],
   "source": [
    "def Add(x,y):\n",
    "\n",
    "    z=y+x\n",
    "\n",
    "    return(y)\n",
    "\n",
    "Add('1','1')"
   ]
  },
  {
   "cell_type": "code",
   "execution_count": null,
   "id": "f8d167c1",
   "metadata": {},
   "outputs": [],
   "source": [
    "class Points(object):\n",
    "\n",
    "    def __init__(self,x,y):\n",
    "\n",
    "        self.x=x\n",
    "\n",
    "        self.y=y\n",
    "\n",
    "    def print_point(self):\n",
    "\n",
    "    print('x=',self.x,'y=',self.y)"
   ]
  }
 ],
 "metadata": {
  "kernelspec": {
   "display_name": "Python 3 (ipykernel)",
   "language": "python",
   "name": "python3"
  },
  "language_info": {
   "codemirror_mode": {
    "name": "ipython",
    "version": 3
   },
   "file_extension": ".py",
   "mimetype": "text/x-python",
   "name": "python",
   "nbconvert_exporter": "python",
   "pygments_lexer": "ipython3",
   "version": "3.11.5"
  }
 },
 "nbformat": 4,
 "nbformat_minor": 5
}
